{
 "cells": [
  {
   "cell_type": "code",
   "execution_count": 1,
   "metadata": {},
   "outputs": [],
   "source": [
    "import chromadb\n",
    "from chromadb.config import Settings"
   ]
  },
  {
   "cell_type": "code",
   "execution_count": 8,
   "metadata": {},
   "outputs": [
    {
     "name": "stdout",
     "output_type": "stream",
     "text": [
      "Collecting chromadb==0.5.4\n",
      "  Using cached chromadb-0.5.4-py3-none-any.whl.metadata (6.8 kB)\n",
      "Requirement already satisfied: build>=1.0.3 in c:\\users\\samue\\appdata\\local\\programs\\python\\python311\\lib\\site-packages (from chromadb==0.5.4) (1.2.2)\n",
      "Requirement already satisfied: pydantic>=1.9 in c:\\users\\samue\\appdata\\local\\programs\\python\\python311\\lib\\site-packages (from chromadb==0.5.4) (1.10.13)\n",
      "Collecting chroma-hnswlib==0.7.5 (from chromadb==0.5.4)\n",
      "  Using cached chroma_hnswlib-0.7.5-cp311-cp311-win_amd64.whl.metadata (262 bytes)\n",
      "Requirement already satisfied: fastapi>=0.95.2 in c:\\users\\samue\\appdata\\local\\programs\\python\\python311\\lib\\site-packages (from chromadb==0.5.4) (0.95.2)\n",
      "Requirement already satisfied: uvicorn>=0.18.3 in c:\\users\\samue\\appdata\\local\\programs\\python\\python311\\lib\\site-packages (from uvicorn[standard]>=0.18.3->chromadb==0.5.4) (0.22.0)\n",
      "Requirement already satisfied: numpy<2.0.0,>=1.22.5 in c:\\users\\samue\\appdata\\local\\programs\\python\\python311\\lib\\site-packages (from chromadb==0.5.4) (1.26.4)\n",
      "Requirement already satisfied: posthog>=2.4.0 in c:\\users\\samue\\appdata\\local\\programs\\python\\python311\\lib\\site-packages (from chromadb==0.5.4) (3.0.2)\n",
      "Requirement already satisfied: typing-extensions>=4.5.0 in c:\\users\\samue\\appdata\\local\\programs\\python\\python311\\lib\\site-packages (from chromadb==0.5.4) (4.11.0)\n",
      "Requirement already satisfied: onnxruntime>=1.14.1 in c:\\users\\samue\\appdata\\local\\programs\\python\\python311\\lib\\site-packages (from chromadb==0.5.4) (1.16.0)\n",
      "Requirement already satisfied: opentelemetry-api>=1.2.0 in c:\\users\\samue\\appdata\\local\\programs\\python\\python311\\lib\\site-packages (from chromadb==0.5.4) (1.27.0)\n",
      "Requirement already satisfied: opentelemetry-exporter-otlp-proto-grpc>=1.2.0 in c:\\users\\samue\\appdata\\local\\programs\\python\\python311\\lib\\site-packages (from chromadb==0.5.4) (1.27.0)\n",
      "Requirement already satisfied: opentelemetry-instrumentation-fastapi>=0.41b0 in c:\\users\\samue\\appdata\\local\\programs\\python\\python311\\lib\\site-packages (from chromadb==0.5.4) (0.48b0)\n",
      "Requirement already satisfied: opentelemetry-sdk>=1.2.0 in c:\\users\\samue\\appdata\\local\\programs\\python\\python311\\lib\\site-packages (from chromadb==0.5.4) (1.27.0)\n",
      "Requirement already satisfied: tokenizers>=0.13.2 in c:\\users\\samue\\appdata\\local\\programs\\python\\python311\\lib\\site-packages (from chromadb==0.5.4) (0.19.1)\n",
      "Requirement already satisfied: pypika>=0.48.9 in c:\\users\\samue\\appdata\\local\\programs\\python\\python311\\lib\\site-packages (from chromadb==0.5.4) (0.48.9)\n",
      "Requirement already satisfied: tqdm>=4.65.0 in c:\\users\\samue\\appdata\\local\\programs\\python\\python311\\lib\\site-packages (from chromadb==0.5.4) (4.66.1)\n",
      "Requirement already satisfied: overrides>=7.3.1 in c:\\users\\samue\\appdata\\local\\programs\\python\\python311\\lib\\site-packages (from chromadb==0.5.4) (7.4.0)\n",
      "Requirement already satisfied: importlib-resources in c:\\users\\samue\\appdata\\local\\programs\\python\\python311\\lib\\site-packages (from chromadb==0.5.4) (6.1.0)\n",
      "Requirement already satisfied: grpcio>=1.58.0 in c:\\users\\samue\\appdata\\local\\programs\\python\\python311\\lib\\site-packages (from chromadb==0.5.4) (1.59.0)\n",
      "Requirement already satisfied: bcrypt>=4.0.1 in c:\\users\\samue\\appdata\\local\\programs\\python\\python311\\lib\\site-packages (from chromadb==0.5.4) (4.0.1)\n",
      "Requirement already satisfied: typer>=0.9.0 in c:\\users\\samue\\appdata\\local\\programs\\python\\python311\\lib\\site-packages (from chromadb==0.5.4) (0.9.0)\n",
      "Requirement already satisfied: kubernetes>=28.1.0 in c:\\users\\samue\\appdata\\local\\programs\\python\\python311\\lib\\site-packages (from chromadb==0.5.4) (31.0.0)\n",
      "Requirement already satisfied: tenacity>=8.2.3 in c:\\users\\samue\\appdata\\local\\programs\\python\\python311\\lib\\site-packages (from chromadb==0.5.4) (8.2.3)\n",
      "Requirement already satisfied: PyYAML>=6.0.0 in c:\\users\\samue\\appdata\\local\\programs\\python\\python311\\lib\\site-packages (from chromadb==0.5.4) (6.0.1)\n",
      "Requirement already satisfied: mmh3>=4.0.1 in c:\\users\\samue\\appdata\\local\\programs\\python\\python311\\lib\\site-packages (from chromadb==0.5.4) (5.0.1)\n",
      "Requirement already satisfied: orjson>=3.9.12 in c:\\users\\samue\\appdata\\local\\programs\\python\\python311\\lib\\site-packages (from chromadb==0.5.4) (3.10.3)\n",
      "Requirement already satisfied: httpx>=0.27.0 in c:\\users\\samue\\appdata\\local\\programs\\python\\python311\\lib\\site-packages (from chromadb==0.5.4) (0.27.0)\n",
      "Requirement already satisfied: packaging>=19.1 in c:\\users\\samue\\appdata\\local\\programs\\python\\python311\\lib\\site-packages (from build>=1.0.3->chromadb==0.5.4) (23.2)\n",
      "Requirement already satisfied: pyproject_hooks in c:\\users\\samue\\appdata\\local\\programs\\python\\python311\\lib\\site-packages (from build>=1.0.3->chromadb==0.5.4) (1.1.0)\n",
      "Requirement already satisfied: colorama in c:\\users\\samue\\appdata\\local\\programs\\python\\python311\\lib\\site-packages (from build>=1.0.3->chromadb==0.5.4) (0.4.6)\n",
      "Requirement already satisfied: starlette<0.28.0,>=0.27.0 in c:\\users\\samue\\appdata\\local\\programs\\python\\python311\\lib\\site-packages (from fastapi>=0.95.2->chromadb==0.5.4) (0.27.0)\n",
      "Requirement already satisfied: anyio in c:\\users\\samue\\appdata\\local\\programs\\python\\python311\\lib\\site-packages (from httpx>=0.27.0->chromadb==0.5.4) (3.7.1)\n",
      "Requirement already satisfied: certifi in c:\\users\\samue\\appdata\\local\\programs\\python\\python311\\lib\\site-packages (from httpx>=0.27.0->chromadb==0.5.4) (2023.7.22)\n",
      "Requirement already satisfied: httpcore==1.* in c:\\users\\samue\\appdata\\local\\programs\\python\\python311\\lib\\site-packages (from httpx>=0.27.0->chromadb==0.5.4) (1.0.2)\n",
      "Requirement already satisfied: idna in c:\\users\\samue\\appdata\\local\\programs\\python\\python311\\lib\\site-packages (from httpx>=0.27.0->chromadb==0.5.4) (3.7)\n",
      "Requirement already satisfied: sniffio in c:\\users\\samue\\appdata\\local\\programs\\python\\python311\\lib\\site-packages (from httpx>=0.27.0->chromadb==0.5.4) (1.3.0)\n",
      "Requirement already satisfied: h11<0.15,>=0.13 in c:\\users\\samue\\appdata\\local\\programs\\python\\python311\\lib\\site-packages (from httpcore==1.*->httpx>=0.27.0->chromadb==0.5.4) (0.14.0)\n",
      "Requirement already satisfied: six>=1.9.0 in c:\\users\\samue\\appdata\\local\\programs\\python\\python311\\lib\\site-packages (from kubernetes>=28.1.0->chromadb==0.5.4) (1.16.0)\n",
      "Requirement already satisfied: python-dateutil>=2.5.3 in c:\\users\\samue\\appdata\\local\\programs\\python\\python311\\lib\\site-packages (from kubernetes>=28.1.0->chromadb==0.5.4) (2.8.2)\n",
      "Requirement already satisfied: google-auth>=1.0.1 in c:\\users\\samue\\appdata\\local\\programs\\python\\python311\\lib\\site-packages (from kubernetes>=28.1.0->chromadb==0.5.4) (2.35.0)\n",
      "Requirement already satisfied: websocket-client!=0.40.0,!=0.41.*,!=0.42.*,>=0.32.0 in c:\\users\\samue\\appdata\\local\\programs\\python\\python311\\lib\\site-packages (from kubernetes>=28.1.0->chromadb==0.5.4) (1.8.0)\n",
      "Requirement already satisfied: requests in c:\\users\\samue\\appdata\\local\\programs\\python\\python311\\lib\\site-packages (from kubernetes>=28.1.0->chromadb==0.5.4) (2.32.3)\n",
      "Requirement already satisfied: requests-oauthlib in c:\\users\\samue\\appdata\\local\\programs\\python\\python311\\lib\\site-packages (from kubernetes>=28.1.0->chromadb==0.5.4) (2.0.0)\n",
      "Requirement already satisfied: oauthlib>=3.2.2 in c:\\users\\samue\\appdata\\local\\programs\\python\\python311\\lib\\site-packages (from kubernetes>=28.1.0->chromadb==0.5.4) (3.2.2)\n",
      "Requirement already satisfied: urllib3>=1.24.2 in c:\\users\\samue\\appdata\\local\\programs\\python\\python311\\lib\\site-packages (from kubernetes>=28.1.0->chromadb==0.5.4) (1.26.18)\n",
      "Requirement already satisfied: durationpy>=0.7 in c:\\users\\samue\\appdata\\local\\programs\\python\\python311\\lib\\site-packages (from kubernetes>=28.1.0->chromadb==0.5.4) (0.7)\n",
      "Requirement already satisfied: coloredlogs in c:\\users\\samue\\appdata\\local\\programs\\python\\python311\\lib\\site-packages (from onnxruntime>=1.14.1->chromadb==0.5.4) (15.0.1)\n",
      "Requirement already satisfied: flatbuffers in c:\\users\\samue\\appdata\\local\\programs\\python\\python311\\lib\\site-packages (from onnxruntime>=1.14.1->chromadb==0.5.4) (24.3.25)\n",
      "Requirement already satisfied: protobuf in c:\\users\\samue\\appdata\\local\\programs\\python\\python311\\lib\\site-packages (from onnxruntime>=1.14.1->chromadb==0.5.4) (4.25.4)\n",
      "Requirement already satisfied: sympy in c:\\users\\samue\\appdata\\local\\programs\\python\\python311\\lib\\site-packages (from onnxruntime>=1.14.1->chromadb==0.5.4) (1.13.1)\n",
      "Requirement already satisfied: deprecated>=1.2.6 in c:\\users\\samue\\appdata\\local\\programs\\python\\python311\\lib\\site-packages (from opentelemetry-api>=1.2.0->chromadb==0.5.4) (1.2.14)\n",
      "Requirement already satisfied: importlib-metadata<=8.4.0,>=6.0 in c:\\users\\samue\\appdata\\local\\programs\\python\\python311\\lib\\site-packages (from opentelemetry-api>=1.2.0->chromadb==0.5.4) (6.8.0)\n",
      "Requirement already satisfied: googleapis-common-protos~=1.52 in c:\\users\\samue\\appdata\\local\\programs\\python\\python311\\lib\\site-packages (from opentelemetry-exporter-otlp-proto-grpc>=1.2.0->chromadb==0.5.4) (1.65.0)\n",
      "Requirement already satisfied: opentelemetry-exporter-otlp-proto-common==1.27.0 in c:\\users\\samue\\appdata\\local\\programs\\python\\python311\\lib\\site-packages (from opentelemetry-exporter-otlp-proto-grpc>=1.2.0->chromadb==0.5.4) (1.27.0)\n",
      "Requirement already satisfied: opentelemetry-proto==1.27.0 in c:\\users\\samue\\appdata\\local\\programs\\python\\python311\\lib\\site-packages (from opentelemetry-exporter-otlp-proto-grpc>=1.2.0->chromadb==0.5.4) (1.27.0)\n",
      "Requirement already satisfied: opentelemetry-instrumentation-asgi==0.48b0 in c:\\users\\samue\\appdata\\local\\programs\\python\\python311\\lib\\site-packages (from opentelemetry-instrumentation-fastapi>=0.41b0->chromadb==0.5.4) (0.48b0)\n",
      "Requirement already satisfied: opentelemetry-instrumentation==0.48b0 in c:\\users\\samue\\appdata\\local\\programs\\python\\python311\\lib\\site-packages (from opentelemetry-instrumentation-fastapi>=0.41b0->chromadb==0.5.4) (0.48b0)\n",
      "Requirement already satisfied: opentelemetry-semantic-conventions==0.48b0 in c:\\users\\samue\\appdata\\local\\programs\\python\\python311\\lib\\site-packages (from opentelemetry-instrumentation-fastapi>=0.41b0->chromadb==0.5.4) (0.48b0)\n",
      "Requirement already satisfied: opentelemetry-util-http==0.48b0 in c:\\users\\samue\\appdata\\local\\programs\\python\\python311\\lib\\site-packages (from opentelemetry-instrumentation-fastapi>=0.41b0->chromadb==0.5.4) (0.48b0)\n",
      "Requirement already satisfied: setuptools>=16.0 in c:\\users\\samue\\appdata\\local\\programs\\python\\python311\\lib\\site-packages (from opentelemetry-instrumentation==0.48b0->opentelemetry-instrumentation-fastapi>=0.41b0->chromadb==0.5.4) (65.5.0)\n",
      "Requirement already satisfied: wrapt<2.0.0,>=1.0.0 in c:\\users\\samue\\appdata\\local\\programs\\python\\python311\\lib\\site-packages (from opentelemetry-instrumentation==0.48b0->opentelemetry-instrumentation-fastapi>=0.41b0->chromadb==0.5.4) (1.16.0)\n",
      "Requirement already satisfied: asgiref~=3.0 in c:\\users\\samue\\appdata\\local\\programs\\python\\python311\\lib\\site-packages (from opentelemetry-instrumentation-asgi==0.48b0->opentelemetry-instrumentation-fastapi>=0.41b0->chromadb==0.5.4) (3.8.1)\n",
      "Requirement already satisfied: monotonic>=1.5 in c:\\users\\samue\\appdata\\local\\programs\\python\\python311\\lib\\site-packages (from posthog>=2.4.0->chromadb==0.5.4) (1.6)\n",
      "Requirement already satisfied: backoff>=1.10.0 in c:\\users\\samue\\appdata\\local\\programs\\python\\python311\\lib\\site-packages (from posthog>=2.4.0->chromadb==0.5.4) (2.2.1)\n",
      "Requirement already satisfied: huggingface-hub<1.0,>=0.16.4 in c:\\users\\samue\\appdata\\local\\programs\\python\\python311\\lib\\site-packages (from tokenizers>=0.13.2->chromadb==0.5.4) (0.23.3)\n",
      "Requirement already satisfied: click<9.0.0,>=7.1.1 in c:\\users\\samue\\appdata\\local\\programs\\python\\python311\\lib\\site-packages (from typer>=0.9.0->chromadb==0.5.4) (8.1.7)\n",
      "Requirement already satisfied: httptools>=0.5.0 in c:\\users\\samue\\appdata\\local\\programs\\python\\python311\\lib\\site-packages (from uvicorn[standard]>=0.18.3->chromadb==0.5.4) (0.6.0)\n",
      "Requirement already satisfied: python-dotenv>=0.13 in c:\\users\\samue\\appdata\\local\\programs\\python\\python311\\lib\\site-packages (from uvicorn[standard]>=0.18.3->chromadb==0.5.4) (1.0.0)\n",
      "Requirement already satisfied: watchfiles>=0.13 in c:\\users\\samue\\appdata\\local\\programs\\python\\python311\\lib\\site-packages (from uvicorn[standard]>=0.18.3->chromadb==0.5.4) (0.20.0)\n",
      "Requirement already satisfied: websockets>=10.4 in c:\\users\\samue\\appdata\\local\\programs\\python\\python311\\lib\\site-packages (from uvicorn[standard]>=0.18.3->chromadb==0.5.4) (11.0.3)\n",
      "Requirement already satisfied: cachetools<6.0,>=2.0.0 in c:\\users\\samue\\appdata\\local\\programs\\python\\python311\\lib\\site-packages (from google-auth>=1.0.1->kubernetes>=28.1.0->chromadb==0.5.4) (5.3.1)\n",
      "Requirement already satisfied: pyasn1-modules>=0.2.1 in c:\\users\\samue\\appdata\\local\\programs\\python\\python311\\lib\\site-packages (from google-auth>=1.0.1->kubernetes>=28.1.0->chromadb==0.5.4) (0.4.1)\n",
      "Requirement already satisfied: rsa<5,>=3.1.4 in c:\\users\\samue\\appdata\\local\\programs\\python\\python311\\lib\\site-packages (from google-auth>=1.0.1->kubernetes>=28.1.0->chromadb==0.5.4) (4.9)\n",
      "Requirement already satisfied: filelock in c:\\users\\samue\\appdata\\local\\programs\\python\\python311\\lib\\site-packages (from huggingface-hub<1.0,>=0.16.4->tokenizers>=0.13.2->chromadb==0.5.4) (3.12.4)\n",
      "Requirement already satisfied: fsspec>=2023.5.0 in c:\\users\\samue\\appdata\\local\\programs\\python\\python311\\lib\\site-packages (from huggingface-hub<1.0,>=0.16.4->tokenizers>=0.13.2->chromadb==0.5.4) (2023.9.2)\n",
      "Requirement already satisfied: zipp>=0.5 in c:\\users\\samue\\appdata\\local\\programs\\python\\python311\\lib\\site-packages (from importlib-metadata<=8.4.0,>=6.0->opentelemetry-api>=1.2.0->chromadb==0.5.4) (3.17.0)\n",
      "Requirement already satisfied: charset-normalizer<4,>=2 in c:\\users\\samue\\appdata\\local\\programs\\python\\python311\\lib\\site-packages (from requests->kubernetes>=28.1.0->chromadb==0.5.4) (3.3.0)\n",
      "Requirement already satisfied: humanfriendly>=9.1 in c:\\users\\samue\\appdata\\local\\programs\\python\\python311\\lib\\site-packages (from coloredlogs->onnxruntime>=1.14.1->chromadb==0.5.4) (10.0)\n",
      "Requirement already satisfied: mpmath<1.4,>=1.1.0 in c:\\users\\samue\\appdata\\local\\programs\\python\\python311\\lib\\site-packages (from sympy->onnxruntime>=1.14.1->chromadb==0.5.4) (1.3.0)\n",
      "Requirement already satisfied: pyreadline3 in c:\\users\\samue\\appdata\\local\\programs\\python\\python311\\lib\\site-packages (from humanfriendly>=9.1->coloredlogs->onnxruntime>=1.14.1->chromadb==0.5.4) (3.4.1)\n",
      "Requirement already satisfied: pyasn1<0.7.0,>=0.4.6 in c:\\users\\samue\\appdata\\local\\programs\\python\\python311\\lib\\site-packages (from pyasn1-modules>=0.2.1->google-auth>=1.0.1->kubernetes>=28.1.0->chromadb==0.5.4) (0.6.1)\n",
      "Using cached chromadb-0.5.4-py3-none-any.whl (581 kB)\n",
      "Using cached chroma_hnswlib-0.7.5-cp311-cp311-win_amd64.whl (151 kB)\n",
      "Installing collected packages: chroma-hnswlib, chromadb\n",
      "  Attempting uninstall: chroma-hnswlib\n",
      "    Found existing installation: chroma-hnswlib 0.7.3\n",
      "    Uninstalling chroma-hnswlib-0.7.3:\n",
      "      Successfully uninstalled chroma-hnswlib-0.7.3\n",
      "  Attempting uninstall: chromadb\n",
      "    Found existing installation: chromadb 0.4.12\n",
      "    Uninstalling chromadb-0.4.12:\n",
      "      Successfully uninstalled chromadb-0.4.12\n",
      "Successfully installed chroma-hnswlib-0.7.5 chromadb-0.5.4\n",
      "Note: you may need to restart the kernel to use updated packages.\n"
     ]
    },
    {
     "name": "stderr",
     "output_type": "stream",
     "text": [
      "\n",
      "[notice] A new release of pip is available: 24.0 -> 24.3.1\n",
      "[notice] To update, run: python.exe -m pip install --upgrade pip\n"
     ]
    }
   ],
   "source": [
    "pip install chromadb==0.5.4"
   ]
  },
  {
   "cell_type": "code",
   "execution_count": 2,
   "metadata": {},
   "outputs": [
    {
     "name": "stdout",
     "output_type": "stream",
     "text": [
      "Name: chromadb\n",
      "Version: 0.5.4\n",
      "Summary: Chroma.\n",
      "Home-page: \n",
      "Author: \n",
      "Author-email: Jeff Huber <jeff@trychroma.com>, Anton Troynikov <anton@trychroma.com>\n",
      "License: \n",
      "Location: c:\\Users\\samue\\AppData\\Local\\Programs\\Python\\Python311\\Lib\\site-packages\n",
      "Requires: bcrypt, build, chroma-hnswlib, fastapi, grpcio, httpx, importlib-resources, kubernetes, mmh3, numpy, onnxruntime, opentelemetry-api, opentelemetry-exporter-otlp-proto-grpc, opentelemetry-instrumentation-fastapi, opentelemetry-sdk, orjson, overrides, posthog, pydantic, pypika, PyYAML, tenacity, tokenizers, tqdm, typer, typing-extensions, uvicorn\n",
      "Required-by: langchain-chroma\n",
      "Note: you may need to restart the kernel to use updated packages.\n"
     ]
    }
   ],
   "source": [
    "pip show chromadb"
   ]
  },
  {
   "cell_type": "code",
   "execution_count": 7,
   "metadata": {},
   "outputs": [],
   "source": [
    "chroma_client = chromadb.HttpClient(host='localhost', port=8000,\n",
    "    settings=Settings(\n",
    "        chroma_client_auth_provider=\"chromadb.auth.token_authn.TokenAuthClientProvider\",\n",
    "        chroma_server_authn_provider=\"chromadb.auth.simple_rbac_authz.SimpleRBACAuthorizationProvider\",\n",
    "        chroma_client_auth_credentials=\"exemplo123\"\n",
    "    )\n",
    ")"
   ]
  },
  {
   "cell_type": "code",
   "execution_count": 8,
   "metadata": {},
   "outputs": [
    {
     "data": {
      "text/plain": [
       "1732153793774665821"
      ]
     },
     "execution_count": 8,
     "metadata": {},
     "output_type": "execute_result"
    }
   ],
   "source": [
    "chroma_client.heartbeat()"
   ]
  }
 ],
 "metadata": {
  "kernelspec": {
   "display_name": "Python 3",
   "language": "python",
   "name": "python3"
  },
  "language_info": {
   "codemirror_mode": {
    "name": "ipython",
    "version": 3
   },
   "file_extension": ".py",
   "mimetype": "text/x-python",
   "name": "python",
   "nbconvert_exporter": "python",
   "pygments_lexer": "ipython3",
   "version": "3.11.5"
  }
 },
 "nbformat": 4,
 "nbformat_minor": 2
}
